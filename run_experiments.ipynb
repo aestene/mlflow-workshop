{
 "cells": [
  {
   "cell_type": "code",
   "execution_count": 1,
   "metadata": {},
   "outputs": [],
   "source": [
    "import os\n",
    "import pandas as pd\n",
    "import itertools as it"
   ]
  },
  {
   "cell_type": "code",
   "execution_count": 2,
   "metadata": {},
   "outputs": [],
   "source": [
    "params_nb = {\"model\":[\"nb\"],\n",
    "             \"alpha\":[0.5,2],\n",
    "             \"ngrams\": [1,2],\n",
    "              \"idf\": [True, False],\n",
    "             \"fit_prior\":[True, False]}\n",
    "params_log = {\"model\":[\"log_reg\"],\n",
    "             \"C\":[1,4],\n",
    "              \"ngrams\": [1,2],\n",
    "              \"idf\": [True, False]}"
   ]
  },
  {
   "cell_type": "code",
   "execution_count": 3,
   "metadata": {},
   "outputs": [],
   "source": [
    "def dict_to_param_list(param_dict):\n",
    "    args = []\n",
    "    for k,v in param_dict.items():\n",
    "        args.append(k.replace(\"'\",\"\")+\"=\"+str(v))\n",
    "    return \" -P \".join(args)"
   ]
  },
  {
   "cell_type": "code",
   "execution_count": 4,
   "metadata": {
    "scrolled": true
   },
   "outputs": [
    {
     "name": "stdout",
     "output_type": "stream",
     "text": [
      "model=nb -P alpha=0.5 -P ngrams=1 -P idf=True -P fit_prior=True\n",
      "model=nb -P alpha=0.5 -P ngrams=1 -P idf=True -P fit_prior=False\n",
      "model=nb -P alpha=0.5 -P ngrams=1 -P idf=False -P fit_prior=True\n",
      "model=nb -P alpha=0.5 -P ngrams=1 -P idf=False -P fit_prior=False\n",
      "model=nb -P alpha=0.5 -P ngrams=2 -P idf=True -P fit_prior=True\n",
      "model=nb -P alpha=0.5 -P ngrams=2 -P idf=True -P fit_prior=False\n",
      "model=nb -P alpha=0.5 -P ngrams=2 -P idf=False -P fit_prior=True\n",
      "model=nb -P alpha=0.5 -P ngrams=2 -P idf=False -P fit_prior=False\n",
      "model=nb -P alpha=2 -P ngrams=1 -P idf=True -P fit_prior=True\n",
      "model=nb -P alpha=2 -P ngrams=1 -P idf=True -P fit_prior=False\n",
      "model=nb -P alpha=2 -P ngrams=1 -P idf=False -P fit_prior=True\n",
      "model=nb -P alpha=2 -P ngrams=1 -P idf=False -P fit_prior=False\n",
      "model=nb -P alpha=2 -P ngrams=2 -P idf=True -P fit_prior=True\n",
      "model=nb -P alpha=2 -P ngrams=2 -P idf=True -P fit_prior=False\n",
      "model=nb -P alpha=2 -P ngrams=2 -P idf=False -P fit_prior=True\n",
      "model=nb -P alpha=2 -P ngrams=2 -P idf=False -P fit_prior=False\n",
      "model=log_reg -P C=1 -P ngrams=1 -P idf=True\n",
      "model=log_reg -P C=1 -P ngrams=1 -P idf=False\n",
      "model=log_reg -P C=1 -P ngrams=2 -P idf=True\n",
      "model=log_reg -P C=1 -P ngrams=2 -P idf=False\n",
      "model=log_reg -P C=4 -P ngrams=1 -P idf=True\n",
      "model=log_reg -P C=4 -P ngrams=1 -P idf=False\n",
      "model=log_reg -P C=4 -P ngrams=2 -P idf=True\n",
      "model=log_reg -P C=4 -P ngrams=2 -P idf=False\n"
     ]
    }
   ],
   "source": [
    "for param_combs in [params_nb, params_log]:\n",
    "    for values in it.product(*map(param_combs.get, list(param_combs.keys()))):\n",
    "        param_dict = dict(zip(list(param_combs.keys()), values))\n",
    "        param_str = dict_to_param_list(param_dict)\n",
    "        print(param_str)\n",
    "        os.system(f\"mlflow run . --no-conda -P {param_str}\")"
   ]
  },
  {
   "cell_type": "code",
   "execution_count": 5,
   "metadata": {},
   "outputs": [
    {
     "data": {
      "text/plain": [
       "'mlflow run . --no-conda -P model=log_reg -P C=4 -P ngrams=2 -P idf=False'"
      ]
     },
     "execution_count": 5,
     "metadata": {},
     "output_type": "execute_result"
    }
   ],
   "source": [
    "f\"mlflow run . --no-conda -P {param_str}\""
   ]
  },
  {
   "cell_type": "code",
   "execution_count": 6,
   "metadata": {},
   "outputs": [],
   "source": [
    "import mlflow"
   ]
  },
  {
   "cell_type": "code",
   "execution_count": 7,
   "metadata": {},
   "outputs": [],
   "source": [
    "mlflow.set_tracking_uri(\"databricks\")"
   ]
  },
  {
   "cell_type": "code",
   "execution_count": null,
   "metadata": {},
   "outputs": [],
   "source": [
    "mlflow.set_tracking_uri(\"file:///c/Users/thotho/Documents/Repos/mlflow-workshop/mlruns\")"
   ]
  }
 ],
 "metadata": {
  "kernelspec": {
   "display_name": "Python 3",
   "language": "python",
   "name": "python3"
  },
  "language_info": {
   "codemirror_mode": {
    "name": "ipython",
    "version": 3
   },
   "file_extension": ".py",
   "mimetype": "text/x-python",
   "name": "python",
   "nbconvert_exporter": "python",
   "pygments_lexer": "ipython3",
   "version": "3.6.8"
  },
  "toc": {
   "base_numbering": 1,
   "nav_menu": {},
   "number_sections": true,
   "sideBar": true,
   "skip_h1_title": false,
   "title_cell": "Table of Contents",
   "title_sidebar": "Contents",
   "toc_cell": false,
   "toc_position": {},
   "toc_section_display": true,
   "toc_window_display": false
  },
  "varInspector": {
   "cols": {
    "lenName": 16,
    "lenType": 16,
    "lenVar": 40
   },
   "kernels_config": {
    "python": {
     "delete_cmd_postfix": "",
     "delete_cmd_prefix": "del ",
     "library": "var_list.py",
     "varRefreshCmd": "print(var_dic_list())"
    },
    "r": {
     "delete_cmd_postfix": ") ",
     "delete_cmd_prefix": "rm(",
     "library": "var_list.r",
     "varRefreshCmd": "cat(var_dic_list()) "
    }
   },
   "types_to_exclude": [
    "module",
    "function",
    "builtin_function_or_method",
    "instance",
    "_Feature"
   ],
   "window_display": false
  }
 },
 "nbformat": 4,
 "nbformat_minor": 2
}
