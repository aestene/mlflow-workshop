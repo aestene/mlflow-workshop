{
 "cells": [
  {
   "cell_type": "code",
   "execution_count": 5,
   "metadata": {},
   "outputs": [],
   "source": [
    "import mlflow.azureml\n",
    "\n",
    "from azureml.core import Workspace\n",
    "from azureml.core.webservice import AciWebservice, Webservice\n",
    "\n",
    "\n",
    "workspace_name = \"aeamlws\"\n",
    "subscription_id = \"d4e5fecf-32d0-4314-a56e-ca2389ac7ac3\"\n",
    "resource_group = \"DataPlatformAESKORGDev\"\n",
    "location = \"westeurope\""
   ]
  },
  {
   "cell_type": "markdown",
   "metadata": {},
   "source": [
    "## Create AzureML Workspace"
   ]
  },
  {
   "cell_type": "code",
   "execution_count": 4,
   "metadata": {},
   "outputs": [
    {
     "name": "stdout",
     "output_type": "stream",
     "text": [
      "Deploying KeyVault with name mlflowdekeyvault0f6efcf8.\n",
      "Deployment of StorageAccount with name mlflowdestorage73adc2d2e failed.\n",
      "Deploying AppInsights with name mlflowdeinsights1a99c1a0.\n",
      "Deployed AppInsights with name mlflowdeinsights1a99c1a0. Took 5.18 seconds.\n",
      "Deployed KeyVault with name mlflowdekeyvault0f6efcf8. Took 17.81 seconds.\n",
      "Unable to create the workspace. \n",
      " Azure Error: DeploymentFailed\n",
      "Message: At least one resource deployment operation failed. Please list deployment operations for details. Please see https://aka.ms/arm-debug for usage details.\n",
      "Exception Details:\n",
      "\tError Code: Conflict\n",
      "\tMessage: {'error': {'code': 'MaxStorageAccountsCountPerSubscriptionExceeded', 'message': 'Subscription d4e5fecf-32d0-4314-a56e-ca2389ac7ac3 already contains 252 storage accounts in location northeurope and the maximum allowed is 250.'}}\n"
     ]
    },
    {
     "ename": "WorkspaceException",
     "evalue": "WorkspaceException:\n\tMessage: Unable to create the workspace. At least one resource deployment operation failed. Please list deployment operations for details. Please see https://aka.ms/arm-debug for usage details.\n\tInnerException Azure Error: DeploymentFailed\nMessage: At least one resource deployment operation failed. Please list deployment operations for details. Please see https://aka.ms/arm-debug for usage details.\nException Details:\n\tError Code: Conflict\n\tMessage: {'error': {'code': 'MaxStorageAccountsCountPerSubscriptionExceeded', 'message': 'Subscription d4e5fecf-32d0-4314-a56e-ca2389ac7ac3 already contains 252 storage accounts in location northeurope and the maximum allowed is 250.'}}\n\tErrorResponse \n{\n    \"error\": {\n        \"message\": \"Unable to create the workspace. At least one resource deployment operation failed. Please list deployment operations for details. Please see https://aka.ms/arm-debug for usage details.\"\n    }\n}",
     "output_type": "error",
     "traceback": [
      "\u001b[1;31m---------------------------------------------------------------------------\u001b[0m",
      "\u001b[1;31mWorkspaceException\u001b[0m                        Traceback (most recent call last)",
      "\u001b[1;32m<ipython-input-4-1887418b1d76>\u001b[0m in \u001b[0;36m<module>\u001b[1;34m\u001b[0m\n\u001b[0;32m      3\u001b[0m                                    \u001b[0mresource_group\u001b[0m\u001b[1;33m=\u001b[0m\u001b[0mresource_group\u001b[0m\u001b[1;33m,\u001b[0m\u001b[1;33m\u001b[0m\u001b[1;33m\u001b[0m\u001b[0m\n\u001b[0;32m      4\u001b[0m                                    \u001b[0mlocation\u001b[0m\u001b[1;33m=\u001b[0m\u001b[0mlocation\u001b[0m\u001b[1;33m,\u001b[0m\u001b[1;33m\u001b[0m\u001b[1;33m\u001b[0m\u001b[0m\n\u001b[1;32m----> 5\u001b[1;33m                                    create_resource_group=True)\n\u001b[0m",
      "\u001b[1;32mC:\\Appl\\Anaconda3\\envs\\mlflowenv\\lib\\site-packages\\azureml\\core\\workspace.py\u001b[0m in \u001b[0;36mcreate\u001b[1;34m(name, auth, subscription_id, resource_group, location, create_resource_group, friendly_name, storage_account, key_vault, app_insights, container_registry, default_cpu_compute_target, default_gpu_compute_target, exist_ok, show_output)\u001b[0m\n\u001b[0;32m    337\u001b[0m                                         \u001b[0mdefault_cpu_compute_target\u001b[0m\u001b[1;33m=\u001b[0m\u001b[0mdefault_cpu_compute_target\u001b[0m\u001b[1;33m,\u001b[0m\u001b[1;33m\u001b[0m\u001b[1;33m\u001b[0m\u001b[0m\n\u001b[0;32m    338\u001b[0m                                         \u001b[0mdefault_gpu_compute_target\u001b[0m\u001b[1;33m=\u001b[0m\u001b[0mdefault_gpu_compute_target\u001b[0m\u001b[1;33m,\u001b[0m\u001b[1;33m\u001b[0m\u001b[1;33m\u001b[0m\u001b[0m\n\u001b[1;32m--> 339\u001b[1;33m                                         exist_ok=exist_ok, show_output=show_output)\n\u001b[0m\u001b[0;32m    340\u001b[0m \u001b[1;33m\u001b[0m\u001b[0m\n\u001b[0;32m    341\u001b[0m     \u001b[1;33m@\u001b[0m\u001b[0mstaticmethod\u001b[0m\u001b[1;33m\u001b[0m\u001b[1;33m\u001b[0m\u001b[0m\n",
      "\u001b[1;32mC:\\Appl\\Anaconda3\\envs\\mlflowenv\\lib\\site-packages\\azureml\\core\\workspace.py\u001b[0m in \u001b[0;36m_create_legacy\u001b[1;34m(auth, subscription_id, resource_group_name, workspace_name, location, create_resource_group, friendly_name, storage_account, key_vault, app_insights, container_registry, default_cpu_compute_target, default_gpu_compute_target, exist_ok, show_output)\u001b[0m\n\u001b[0;32m    925\u001b[0m                                                                \u001b[0mdefault_cpu_compute_target\u001b[0m\u001b[1;33m=\u001b[0m\u001b[0mdefault_cpu_compute_target\u001b[0m\u001b[1;33m,\u001b[0m\u001b[1;33m\u001b[0m\u001b[1;33m\u001b[0m\u001b[0m\n\u001b[0;32m    926\u001b[0m                                                                \u001b[0mdefault_gpu_compute_target\u001b[0m\u001b[1;33m=\u001b[0m\u001b[0mdefault_gpu_compute_target\u001b[0m\u001b[1;33m,\u001b[0m\u001b[1;33m\u001b[0m\u001b[1;33m\u001b[0m\u001b[0m\n\u001b[1;32m--> 927\u001b[1;33m                                                                exist_ok=exist_ok, show_output=show_output)\n\u001b[0m\u001b[0;32m    928\u001b[0m         \u001b[1;32mif\u001b[0m \u001b[1;32mnot\u001b[0m \u001b[0mworkspace_object_autorest\u001b[0m\u001b[1;33m:\u001b[0m\u001b[1;33m\u001b[0m\u001b[1;33m\u001b[0m\u001b[0m\n\u001b[0;32m    929\u001b[0m             \u001b[1;32mraise\u001b[0m \u001b[0mWorkspaceException\u001b[0m\u001b[1;33m(\u001b[0m\u001b[1;34m\"Couldn't create the workspace.\"\u001b[0m\u001b[1;33m)\u001b[0m\u001b[1;33m\u001b[0m\u001b[1;33m\u001b[0m\u001b[0m\n",
      "\u001b[1;32mC:\\Appl\\Anaconda3\\envs\\mlflowenv\\lib\\site-packages\\azureml\\_project\\_commands.py\u001b[0m in \u001b[0;36mcreate_workspace\u001b[1;34m(auth, resource_group_name, workspace_name, subscription_id, location, create_resource_group, friendly_name, storage_account, key_vault, app_insights, containerRegistry, default_cpu_compute_target, default_gpu_compute_target, exist_ok, show_output)\u001b[0m\n\u001b[0;32m    299\u001b[0m         \u001b[0mdefault_gpu_compute_target\u001b[0m\u001b[1;33m=\u001b[0m\u001b[0mdefault_gpu_compute_target\u001b[0m\u001b[1;33m,\u001b[0m\u001b[1;33m\u001b[0m\u001b[1;33m\u001b[0m\u001b[0m\n\u001b[0;32m    300\u001b[0m         \u001b[0mexist_ok\u001b[0m\u001b[1;33m=\u001b[0m\u001b[0mexist_ok\u001b[0m\u001b[1;33m,\u001b[0m\u001b[1;33m\u001b[0m\u001b[1;33m\u001b[0m\u001b[0m\n\u001b[1;32m--> 301\u001b[1;33m         show_output=show_output)\n\u001b[0m\u001b[0;32m    302\u001b[0m \u001b[1;33m\u001b[0m\u001b[0m\n\u001b[0;32m    303\u001b[0m \u001b[1;33m\u001b[0m\u001b[0m\n",
      "\u001b[1;32mC:\\Appl\\Anaconda3\\envs\\mlflowenv\\lib\\site-packages\\azureml\\_workspace\\custom.py\u001b[0m in \u001b[0;36mml_workspace_create_resources\u001b[1;34m(auth, client, resource_group_name, workspace_name, location, subscription_id, friendly_name, storage_account, key_vault, app_insights, containerRegistry, default_cpu_compute_target, default_gpu_compute_target, exist_ok, show_output)\u001b[0m\n\u001b[0;32m     87\u001b[0m             \u001b[1;32mpass\u001b[0m\u001b[1;33m\u001b[0m\u001b[1;33m\u001b[0m\u001b[0m\n\u001b[0;32m     88\u001b[0m         raise WorkspaceException(\"Unable to create the workspace. {}\".format(error_message),\n\u001b[1;32m---> 89\u001b[1;33m                                  inner_exception=orchestrator.error)\n\u001b[0m\u001b[0;32m     90\u001b[0m \u001b[1;33m\u001b[0m\u001b[0m\n\u001b[0;32m     91\u001b[0m     \u001b[1;32mif\u001b[0m \u001b[1;33m(\u001b[0m\u001b[0mdefault_cpu_compute_target\u001b[0m \u001b[1;32mor\u001b[0m \u001b[0mdefault_gpu_compute_target\u001b[0m\u001b[1;33m)\u001b[0m\u001b[1;33m:\u001b[0m\u001b[1;33m\u001b[0m\u001b[1;33m\u001b[0m\u001b[0m\n",
      "\u001b[1;31mWorkspaceException\u001b[0m: WorkspaceException:\n\tMessage: Unable to create the workspace. At least one resource deployment operation failed. Please list deployment operations for details. Please see https://aka.ms/arm-debug for usage details.\n\tInnerException Azure Error: DeploymentFailed\nMessage: At least one resource deployment operation failed. Please list deployment operations for details. Please see https://aka.ms/arm-debug for usage details.\nException Details:\n\tError Code: Conflict\n\tMessage: {'error': {'code': 'MaxStorageAccountsCountPerSubscriptionExceeded', 'message': 'Subscription d4e5fecf-32d0-4314-a56e-ca2389ac7ac3 already contains 252 storage accounts in location northeurope and the maximum allowed is 250.'}}\n\tErrorResponse \n{\n    \"error\": {\n        \"message\": \"Unable to create the workspace. At least one resource deployment operation failed. Please list deployment operations for details. Please see https://aka.ms/arm-debug for usage details.\"\n    }\n}"
     ]
    }
   ],
   "source": [
    "azure_workspace = Workspace.create(name=workspace_name,\n",
    "                                   subscription_id=subscription_id,\n",
    "                                   resource_group=resource_group,\n",
    "                                   location=location,\n",
    "                                   create_resource_group=True)"
   ]
  },
  {
   "cell_type": "markdown",
   "metadata": {},
   "source": [
    "## Get already created workspace"
   ]
  },
  {
   "cell_type": "code",
   "execution_count": 6,
   "metadata": {},
   "outputs": [],
   "source": [
    "azure_workspace = Workspace.get(name=workspace_name,\n",
    "                                   subscription_id=subscription_id,\n",
    "                                   resource_group=resource_group)"
   ]
  },
  {
   "cell_type": "code",
   "execution_count": 7,
   "metadata": {},
   "outputs": [
    {
     "data": {
      "text/plain": [
       "{'aeamlws': [Workspace.create(name='aeamlws', subscription_id='d4e5fecf-32d0-4314-a56e-ca2389ac7ac3', resource_group='DataPlatformAESKORGDev')],\n",
       " 'mlflow-demo-deploy': [Workspace.create(name='mlflow-demo-deploy', subscription_id='d4e5fecf-32d0-4314-a56e-ca2389ac7ac3', resource_group='DataPlatformGreenTeamRGDev')]}"
      ]
     },
     "execution_count": 7,
     "metadata": {},
     "output_type": "execute_result"
    }
   ],
   "source": [
    "azure_workspace.list(subscription_id)"
   ]
  },
  {
   "cell_type": "markdown",
   "metadata": {},
   "source": [
    "# Build an AzureML container image for deployment"
   ]
  },
  {
   "cell_type": "code",
   "execution_count": 8,
   "metadata": {},
   "outputs": [
    {
     "ename": "OSError",
     "evalue": "No such file or directory: '.\\mlruns\\0\\1de47d82f2de4b0d9211799899b8d764\\artifacts\\models'",
     "output_type": "error",
     "traceback": [
      "\u001b[1;31m---------------------------------------------------------------------------\u001b[0m",
      "\u001b[1;31mOSError\u001b[0m                                   Traceback (most recent call last)",
      "\u001b[1;32m<ipython-input-8-c41d6dd3314a>\u001b[0m in \u001b[0;36m<module>\u001b[1;34m\u001b[0m\n\u001b[0;32m      2\u001b[0m                                                       \u001b[0mworkspace\u001b[0m\u001b[1;33m=\u001b[0m\u001b[0mazure_workspace\u001b[0m\u001b[1;33m,\u001b[0m\u001b[1;33m\u001b[0m\u001b[1;33m\u001b[0m\u001b[0m\n\u001b[0;32m      3\u001b[0m                                                       \u001b[0mdescription\u001b[0m\u001b[1;33m=\u001b[0m\u001b[1;34m\"Text Classifier\"\u001b[0m\u001b[1;33m,\u001b[0m\u001b[1;33m\u001b[0m\u001b[1;33m\u001b[0m\u001b[0m\n\u001b[1;32m----> 4\u001b[1;33m                                                       synchronous=True)\n\u001b[0m\u001b[0;32m      5\u001b[0m \u001b[1;31m# If your image build failed, you can access build logs at the following URI:\u001b[0m\u001b[1;33m\u001b[0m\u001b[1;33m\u001b[0m\u001b[1;33m\u001b[0m\u001b[0m\n\u001b[0;32m      6\u001b[0m \u001b[0mprint\u001b[0m\u001b[1;33m(\u001b[0m\u001b[1;34m\"Access the following URI for build logs: {}\"\u001b[0m\u001b[1;33m.\u001b[0m\u001b[0mformat\u001b[0m\u001b[1;33m(\u001b[0m\u001b[0mazure_image\u001b[0m\u001b[1;33m.\u001b[0m\u001b[0mimage_build_log_uri\u001b[0m\u001b[1;33m)\u001b[0m\u001b[1;33m)\u001b[0m\u001b[1;33m\u001b[0m\u001b[1;33m\u001b[0m\u001b[0m\n",
      "\u001b[1;32mC:\\Appl\\Anaconda3\\envs\\mlflowenv\\lib\\site-packages\\mlflow\\azureml\\__init__.py\u001b[0m in \u001b[0;36mbuild_image\u001b[1;34m(model_uri, workspace, image_name, model_name, mlflow_home, description, tags, synchronous)\u001b[0m\n\u001b[0;32m    121\u001b[0m     \u001b[1;32mfrom\u001b[0m \u001b[0mazureml\u001b[0m\u001b[1;33m.\u001b[0m\u001b[0mcore\u001b[0m\u001b[1;33m.\u001b[0m\u001b[0mmodel\u001b[0m \u001b[1;32mimport\u001b[0m \u001b[0mModel\u001b[0m \u001b[1;32mas\u001b[0m \u001b[0mAzureModel\u001b[0m\u001b[1;33m\u001b[0m\u001b[1;33m\u001b[0m\u001b[0m\n\u001b[0;32m    122\u001b[0m \u001b[1;33m\u001b[0m\u001b[0m\n\u001b[1;32m--> 123\u001b[1;33m     \u001b[0mabsolute_model_path\u001b[0m \u001b[1;33m=\u001b[0m \u001b[0m_download_artifact_from_uri\u001b[0m\u001b[1;33m(\u001b[0m\u001b[0mmodel_uri\u001b[0m\u001b[1;33m)\u001b[0m\u001b[1;33m\u001b[0m\u001b[1;33m\u001b[0m\u001b[0m\n\u001b[0m\u001b[0;32m    124\u001b[0m \u001b[1;33m\u001b[0m\u001b[0m\n\u001b[0;32m    125\u001b[0m     \u001b[0mmodel_pyfunc_conf\u001b[0m \u001b[1;33m=\u001b[0m \u001b[0m_load_pyfunc_conf\u001b[0m\u001b[1;33m(\u001b[0m\u001b[0mmodel_path\u001b[0m\u001b[1;33m=\u001b[0m\u001b[0mabsolute_model_path\u001b[0m\u001b[1;33m)\u001b[0m\u001b[1;33m\u001b[0m\u001b[1;33m\u001b[0m\u001b[0m\n",
      "\u001b[1;32mC:\\Appl\\Anaconda3\\envs\\mlflowenv\\lib\\site-packages\\mlflow\\tracking\\artifact_utils.py\u001b[0m in \u001b[0;36m_download_artifact_from_uri\u001b[1;34m(artifact_uri, output_path)\u001b[0m\n\u001b[0;32m     64\u001b[0m     \u001b[0mroot_uri\u001b[0m \u001b[1;33m=\u001b[0m \u001b[0mprefix\u001b[0m \u001b[1;33m+\u001b[0m \u001b[0murllib\u001b[0m\u001b[1;33m.\u001b[0m\u001b[0mparse\u001b[0m\u001b[1;33m.\u001b[0m\u001b[0murlunparse\u001b[0m\u001b[1;33m(\u001b[0m\u001b[0mparsed_uri\u001b[0m\u001b[1;33m)\u001b[0m\u001b[1;33m\u001b[0m\u001b[1;33m\u001b[0m\u001b[0m\n\u001b[0;32m     65\u001b[0m     return get_artifact_repository(artifact_uri=root_uri).download_artifacts(\n\u001b[1;32m---> 66\u001b[1;33m         artifact_path=artifact_path, dst_path=output_path)\n\u001b[0m",
      "\u001b[1;32mC:\\Appl\\Anaconda3\\envs\\mlflowenv\\lib\\site-packages\\mlflow\\store\\local_artifact_repo.py\u001b[0m in \u001b[0;36mdownload_artifacts\u001b[1;34m(self, artifact_path, dst_path)\u001b[0m\n\u001b[0;32m     63\u001b[0m         \u001b[0mlocal_artifact_path\u001b[0m \u001b[1;33m=\u001b[0m \u001b[0mos\u001b[0m\u001b[1;33m.\u001b[0m\u001b[0mpath\u001b[0m\u001b[1;33m.\u001b[0m\u001b[0mjoin\u001b[0m\u001b[1;33m(\u001b[0m\u001b[0mself\u001b[0m\u001b[1;33m.\u001b[0m\u001b[0martifact_dir\u001b[0m\u001b[1;33m,\u001b[0m \u001b[0mos\u001b[0m\u001b[1;33m.\u001b[0m\u001b[0mpath\u001b[0m\u001b[1;33m.\u001b[0m\u001b[0mnormpath\u001b[0m\u001b[1;33m(\u001b[0m\u001b[0martifact_path\u001b[0m\u001b[1;33m)\u001b[0m\u001b[1;33m)\u001b[0m\u001b[1;33m\u001b[0m\u001b[1;33m\u001b[0m\u001b[0m\n\u001b[0;32m     64\u001b[0m         \u001b[1;32mif\u001b[0m \u001b[1;32mnot\u001b[0m \u001b[0mos\u001b[0m\u001b[1;33m.\u001b[0m\u001b[0mpath\u001b[0m\u001b[1;33m.\u001b[0m\u001b[0mexists\u001b[0m\u001b[1;33m(\u001b[0m\u001b[0mlocal_artifact_path\u001b[0m\u001b[1;33m)\u001b[0m\u001b[1;33m:\u001b[0m\u001b[1;33m\u001b[0m\u001b[1;33m\u001b[0m\u001b[0m\n\u001b[1;32m---> 65\u001b[1;33m             \u001b[1;32mraise\u001b[0m \u001b[0mIOError\u001b[0m\u001b[1;33m(\u001b[0m\u001b[1;34m'No such file or directory: \\'{}\\''\u001b[0m\u001b[1;33m.\u001b[0m\u001b[0mformat\u001b[0m\u001b[1;33m(\u001b[0m\u001b[0mlocal_artifact_path\u001b[0m\u001b[1;33m)\u001b[0m\u001b[1;33m)\u001b[0m\u001b[1;33m\u001b[0m\u001b[1;33m\u001b[0m\u001b[0m\n\u001b[0m\u001b[0;32m     66\u001b[0m         \u001b[1;32mreturn\u001b[0m \u001b[0mos\u001b[0m\u001b[1;33m.\u001b[0m\u001b[0mpath\u001b[0m\u001b[1;33m.\u001b[0m\u001b[0mabspath\u001b[0m\u001b[1;33m(\u001b[0m\u001b[0mlocal_artifact_path\u001b[0m\u001b[1;33m)\u001b[0m\u001b[1;33m\u001b[0m\u001b[1;33m\u001b[0m\u001b[0m\n\u001b[0;32m     67\u001b[0m \u001b[1;33m\u001b[0m\u001b[0m\n",
      "\u001b[1;31mOSError\u001b[0m: No such file or directory: '.\\mlruns\\0\\1de47d82f2de4b0d9211799899b8d764\\artifacts\\models'"
     ]
    }
   ],
   "source": [
    "azure_image, azure_model = mlflow.azureml.build_image(model_uri=\"./mlruns/0/1de47d82f2de4b0d9211799899b8d764/artifacts/models\",\n",
    "                                                      workspace=azure_workspace,\n",
    "                                                      description=\"Text Classifier\",\n",
    "                                                      synchronous=True)\n",
    "# If your image build failed, you can access build logs at the following URI:\n",
    "print(\"Access the following URI for build logs: {}\".format(azure_image.image_build_log_uri))"
   ]
  },
  {
   "cell_type": "markdown",
   "metadata": {},
   "source": [
    "## Deploy the container image to Azure Container Instances"
   ]
  },
  {
   "cell_type": "code",
   "execution_count": 21,
   "metadata": {},
   "outputs": [
    {
     "name": "stdout",
     "output_type": "stream",
     "text": [
      "ACI service creation operation finished, operation \"Succeeded\"\n",
      "Scoring URI is: %s http://0f8577e9-1454-4ec1-be5f-c1324d2a9a70.northeurope.azurecontainer.io/score\n"
     ]
    }
   ],
   "source": [
    "webservice_deployment_config = AciWebservice.deploy_configuration()\n",
    "webservice = Webservice.deploy_from_image(\n",
    "                    image=azure_image, workspace=azure_workspace, name=\"mlflowdemo2\")\n",
    "webservice.wait_for_deployment()\n",
    "\n",
    "print(\"Scoring URI is: %s\", webservice.scoring_uri)"
   ]
  },
  {
   "cell_type": "code",
   "execution_count": 22,
   "metadata": {
    "scrolled": false
   },
   "outputs": [
    {
     "name": "stdout",
     "output_type": "stream",
     "text": [
      "2019-09-18T10:00:30,028514981+00:00 - iot-server/run \n",
      "2019-09-18T10:00:30,027979079+00:00 - rsyslog/run \n",
      "2019-09-18T10:00:30,029014984+00:00 - gunicorn/run \n",
      "2019-09-18T10:00:30,127746876+00:00 - nginx/run \n",
      "EdgeHubConnectionString and IOTEDGE_IOTHUBHOSTNAME are not set. Exiting...\n",
      "2019-09-18T10:00:36,852431487+00:00 - iot-server/finish 1 0\n",
      "2019-09-18T10:00:36,948798664+00:00 - Exit code 1 is normal. Not restarting iot-server.\n",
      "Starting gunicorn 19.6.0\n",
      "Listening at: http://127.0.0.1:31311 (12)\n",
      "Using worker: sync\n",
      "worker timeout is set to 300\n",
      "Booting worker with pid: 43\n",
      "generated new fontManager\n",
      "Initializing logger\n",
      "Starting up app insights client\n",
      "Starting up request id generator\n",
      "Starting up app insight hooks\n",
      "Invoking user's init function\n",
      "2019-09-18 10:01:40,950 | azureml.core.run | DEBUG | Could not load run context RunEnvironmentException:\n",
      "\tMessage: Could not load a submitted run, if outside of an execution context, use experiment.start_logging to initialize an azureml.core.Run.\n",
      "\tInnerException None\n",
      "\tErrorResponse \n",
      "{\n",
      "    \"error\": {\n",
      "        \"message\": \"Could not load a submitted run, if outside of an execution context, use experiment.start_logging to initialize an azureml.core.Run.\"\n",
      "    }\n",
      "}, switching offline: False\n",
      "2019-09-18 10:01:40,950 | azureml.core.run | DEBUG | Could not load the run context and allow_offline set to False\n",
      "2019-09-18 10:01:40,951 | azureml.core.model | DEBUG | RunEnvironmentException: RunEnvironmentException:\n",
      "\tMessage: Could not load a submitted run, if outside of an execution context, use experiment.start_logging to initialize an azureml.core.Run.\n",
      "\tInnerException RunEnvironmentException:\n",
      "\tMessage: Could not load a submitted run, if outside of an execution context, use experiment.start_logging to initialize an azureml.core.Run.\n",
      "\tInnerException None\n",
      "\tErrorResponse \n",
      "{\n",
      "    \"error\": {\n",
      "        \"message\": \"Could not load a submitted run, if outside of an execution context, use experiment.start_logging to initialize an azureml.core.Run.\"\n",
      "    }\n",
      "}\n",
      "\tErrorResponse \n",
      "{\n",
      "    \"error\": {\n",
      "        \"message\": \"Could not load a submitted run, if outside of an execution context, use experiment.start_logging to initialize an azureml.core.Run.\"\n",
      "    }\n",
      "}\n",
      "2019-09-18 10:01:40,951 | azureml.core.model | DEBUG | Using passed in version 1\n",
      "2019-09-18 10:01:40,951 | azureml.core.model | DEBUG | Found model path at azureml-models/mlflow-g7sm-6fpt1wizuppvnwbcq/1/models\n",
      "Users's init has completed successfully\n",
      "execution_script.py:12: DeprecationWarning: .. Warning:: ``mlflow.pyfunc.load_pyfunc`` is deprecated since 1.0. This method will be removed in a near future release. Use ``mlflow.pyfunc.load_model`` instead.\n",
      "  model = load_pyfunc(model_path)\n",
      "Scoring timeout setting is not found. Use default timeout: 3600000 ms\n",
      "\n"
     ]
    }
   ],
   "source": [
    "print(webservice.get_logs())"
   ]
  },
  {
   "cell_type": "markdown",
   "metadata": {},
   "source": [
    "## Making new predictions\n",
    "After the image deployment completes, requests can be posted via HTTP to the new ACI webservice's scoring URI."
   ]
  },
  {
   "cell_type": "code",
   "execution_count": 23,
   "metadata": {},
   "outputs": [
    {
     "data": {
      "text/plain": [
       "'http://0f8577e9-1454-4ec1-be5f-c1324d2a9a70.northeurope.azurecontainer.io/score'"
      ]
     },
     "execution_count": 23,
     "metadata": {},
     "output_type": "execute_result"
    }
   ],
   "source": [
    "scoring_uri = webservice.scoring_uri #\"http://9e04c0c1-75ae-4001-8f16-770bb2120e0b.westus.azurecontainer.io/score\"\n",
    "scoring_uri"
   ]
  },
  {
   "cell_type": "code",
   "execution_count": 26,
   "metadata": {},
   "outputs": [],
   "source": [
    "import requests\n",
    "import json\n",
    "import pandas as pd\n",
    "\n",
    "# `sample_input` is a JSON-serialized pandas DataFrame with the `split` orientation\n",
    "\n",
    "def get_prediction(text_to_predict):\n",
    "    sample_input = {\"columns\":[\"description\"],\n",
    "                    \"data\":text_to_predict\n",
    "                   }\n",
    "    print(json.dumps(sample_input))\n",
    "    response = requests.post(\n",
    "                  url=scoring_uri, data=json.dumps(sample_input),\n",
    "                  headers={\"Content-type\": \"application/json\",\n",
    "                          \"format\": \"pandas-split\"})\n",
    "    print(response)\n",
    "    response_json = json.loads(response.text)\n",
    "    return response_json"
   ]
  },
  {
   "cell_type": "code",
   "execution_count": 27,
   "metadata": {},
   "outputs": [
    {
     "name": "stdout",
     "output_type": "stream",
     "text": [
      "{\"columns\": [\"description\"], \"data\": [[\"machine learning artificial intelligence algorithm neural network\"], [\"test medicine medical surgery\"]]}\n",
      "<Response [200]>\n"
     ]
    },
    {
     "data": {
      "text/plain": [
       "[{'AD': 0.01813508487277221,\n",
       "  'HF': 0.05229500496841805,\n",
       "  'IE': 0.5908285560032751,\n",
       "  'IV': 0.171604584509179,\n",
       "  'MH': 0.03724132739813264,\n",
       "  'NV': 0.03795602689232898,\n",
       "  'OK': 0.04047057157734069,\n",
       "  'SU': 0.05146884377855149},\n",
       " {'AD': 0.03331348685608118,\n",
       "  'HF': 0.08991528644571575,\n",
       "  'IE': 0.17199133283675266,\n",
       "  'IV': 0.15039080192133317,\n",
       "  'MH': 0.26034723724296127,\n",
       "  'NV': 0.15060933788287126,\n",
       "  'OK': 0.06344532369869275,\n",
       "  'SU': 0.07998719311559377}]"
      ]
     },
     "execution_count": 27,
     "metadata": {},
     "output_type": "execute_result"
    }
   ],
   "source": [
    "get_prediction([[\"machine learning artificial intelligence algorithm neural network\"],[\"test medicine medical surgery\"]])"
   ]
  },
  {
   "cell_type": "code",
   "execution_count": null,
   "metadata": {},
   "outputs": [],
   "source": []
  }
 ],
 "metadata": {
  "kernelspec": {
   "display_name": "Python 3",
   "language": "python",
   "name": "python3"
  },
  "language_info": {
   "codemirror_mode": {
    "name": "ipython",
    "version": 3
   },
   "file_extension": ".py",
   "mimetype": "text/x-python",
   "name": "python",
   "nbconvert_exporter": "python",
   "pygments_lexer": "ipython3",
   "version": "3.6.8"
  },
  "toc": {
   "base_numbering": 1,
   "nav_menu": {},
   "number_sections": true,
   "sideBar": true,
   "skip_h1_title": false,
   "title_cell": "Table of Contents",
   "title_sidebar": "Contents",
   "toc_cell": false,
   "toc_position": {},
   "toc_section_display": true,
   "toc_window_display": false
  }
 },
 "nbformat": 4,
 "nbformat_minor": 2
}
