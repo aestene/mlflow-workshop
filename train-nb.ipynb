{
 "cells": [
  {
   "cell_type": "code",
   "execution_count": 1,
   "metadata": {
    "ExecuteTime": {
     "end_time": "2019-09-04T03:51:02.572055Z",
     "start_time": "2019-09-04T03:51:02.560012Z"
    }
   },
   "outputs": [],
   "source": [
    "import pandas as pd\n",
    "import numpy as np\n",
    "import string\n",
    "from sklearn.feature_extraction.text import CountVectorizer, TfidfVectorizer\n",
    "from sklearn.preprocessing import StandardScaler\n",
    "from sklearn.linear_model import LogisticRegression\n",
    "from sklearn.metrics import confusion_matrix, classification_report, f1_score, auc as sk_auc, roc_curve, precision_score, recall_score\n",
    "from sklearn.decomposition import TruncatedSVD\n",
    "from sklearn.model_selection import train_test_split, StratifiedKFold\n",
    "import pickle\n",
    "import random\n",
    "import re\n",
    "import os\n",
    "import mlflow\n",
    "from mlflow import log_metric, log_param, log_artifact\n",
    "import mlflow.sklearn\n",
    "\n",
    "seed = 42\n",
    "USE_IDF = True\n",
    "NGRAM_RANGE = (1,1)\n",
    "C = 4"
   ]
  },
  {
   "cell_type": "code",
   "execution_count": 2,
   "metadata": {},
   "outputs": [],
   "source": [
    "df = pd.read_csv(\"mlflow/data/course_descriptions.csv\", usecols=[1,2,3,4,5,6])"
   ]
  },
  {
   "cell_type": "code",
   "execution_count": 20,
   "metadata": {},
   "outputs": [
    {
     "data": {
      "text/html": [
       "<div>\n",
       "<style scoped>\n",
       "    .dataframe tbody tr th:only-of-type {\n",
       "        vertical-align: middle;\n",
       "    }\n",
       "\n",
       "    .dataframe tbody tr th {\n",
       "        vertical-align: top;\n",
       "    }\n",
       "\n",
       "    .dataframe thead th {\n",
       "        text-align: right;\n",
       "    }\n",
       "</style>\n",
       "<table border=\"1\" class=\"dataframe\">\n",
       "  <thead>\n",
       "    <tr style=\"text-align: right;\">\n",
       "      <th></th>\n",
       "      <th>description</th>\n",
       "      <th>length</th>\n",
       "      <th>course</th>\n",
       "      <th>ouid</th>\n",
       "      <th>fac</th>\n",
       "      <th>inst</th>\n",
       "    </tr>\n",
       "  </thead>\n",
       "  <tbody>\n",
       "    <tr>\n",
       "      <td>204</td>\n",
       "      <td>The course gives an introduction to the contem...</td>\n",
       "      <td>1238</td>\n",
       "      <td>DRA1000</td>\n",
       "      <td>821</td>\n",
       "      <td>HF</td>\n",
       "      <td>HF-IKM</td>\n",
       "    </tr>\n",
       "    <tr>\n",
       "      <td>465</td>\n",
       "      <td>Students shall select two topics à 3,75 credit...</td>\n",
       "      <td>905</td>\n",
       "      <td>TDT4506</td>\n",
       "      <td>827</td>\n",
       "      <td>IE</td>\n",
       "      <td>IE-IDI</td>\n",
       "    </tr>\n",
       "    <tr>\n",
       "      <td>870</td>\n",
       "      <td>This course allows students of English-languag...</td>\n",
       "      <td>985</td>\n",
       "      <td>ENG3316</td>\n",
       "      <td>1080</td>\n",
       "      <td>HF</td>\n",
       "      <td>HF-ISL</td>\n",
       "    </tr>\n",
       "    <tr>\n",
       "      <td>2010</td>\n",
       "      <td>The course starts by deriving the thermodynami...</td>\n",
       "      <td>2253</td>\n",
       "      <td>TKP4190</td>\n",
       "      <td>869</td>\n",
       "      <td>NV</td>\n",
       "      <td>NV-IKP</td>\n",
       "    </tr>\n",
       "    <tr>\n",
       "      <td>2363</td>\n",
       "      <td>Dimensional analysis. Conservation equations f...</td>\n",
       "      <td>2025</td>\n",
       "      <td>TMT4208</td>\n",
       "      <td>870</td>\n",
       "      <td>NV</td>\n",
       "      <td>NV-IMA</td>\n",
       "    </tr>\n",
       "    <tr>\n",
       "      <td>2723</td>\n",
       "      <td>A broad introduction to modern synthetic organ...</td>\n",
       "      <td>1786</td>\n",
       "      <td>TKJ4155</td>\n",
       "      <td>868</td>\n",
       "      <td>NV</td>\n",
       "      <td>NV-IKJ</td>\n",
       "    </tr>\n",
       "    <tr>\n",
       "      <td>2538</td>\n",
       "      <td>Waves: Wave function, complex notation, plane ...</td>\n",
       "      <td>1664</td>\n",
       "      <td>TFY4170</td>\n",
       "      <td>867</td>\n",
       "      <td>NV</td>\n",
       "      <td>NV-IFY</td>\n",
       "    </tr>\n",
       "    <tr>\n",
       "      <td>2623</td>\n",
       "      <td>The course provides an overview of the most im...</td>\n",
       "      <td>1089</td>\n",
       "      <td>POL8502</td>\n",
       "      <td>876</td>\n",
       "      <td>SU</td>\n",
       "      <td>SU-ISS</td>\n",
       "    </tr>\n",
       "    <tr>\n",
       "      <td>2418</td>\n",
       "      <td>Fundamental theory, basic operation, and appli...</td>\n",
       "      <td>4237</td>\n",
       "      <td>TMT4301</td>\n",
       "      <td>870</td>\n",
       "      <td>NV</td>\n",
       "      <td>NV-IMA</td>\n",
       "    </tr>\n",
       "    <tr>\n",
       "      <td>3198</td>\n",
       "      <td>The work methods of architects.\\r\\r\\nThe work ...</td>\n",
       "      <td>1314</td>\n",
       "      <td>AAR8000</td>\n",
       "      <td>1213</td>\n",
       "      <td>AD</td>\n",
       "      <td>AD-IAP</td>\n",
       "    </tr>\n",
       "  </tbody>\n",
       "</table>\n",
       "</div>"
      ],
      "text/plain": [
       "                                            description  length   course  \\\n",
       "204   The course gives an introduction to the contem...    1238  DRA1000   \n",
       "465   Students shall select two topics à 3,75 credit...     905  TDT4506   \n",
       "870   This course allows students of English-languag...     985  ENG3316   \n",
       "2010  The course starts by deriving the thermodynami...    2253  TKP4190   \n",
       "2363  Dimensional analysis. Conservation equations f...    2025  TMT4208   \n",
       "2723  A broad introduction to modern synthetic organ...    1786  TKJ4155   \n",
       "2538  Waves: Wave function, complex notation, plane ...    1664  TFY4170   \n",
       "2623  The course provides an overview of the most im...    1089  POL8502   \n",
       "2418  Fundamental theory, basic operation, and appli...    4237  TMT4301   \n",
       "3198  The work methods of architects.\\r\\r\\nThe work ...    1314  AAR8000   \n",
       "\n",
       "      ouid fac    inst  \n",
       "204    821  HF  HF-IKM  \n",
       "465    827  IE  IE-IDI  \n",
       "870   1080  HF  HF-ISL  \n",
       "2010   869  NV  NV-IKP  \n",
       "2363   870  NV  NV-IMA  \n",
       "2723   868  NV  NV-IKJ  \n",
       "2538   867  NV  NV-IFY  \n",
       "2623   876  SU  SU-ISS  \n",
       "2418   870  NV  NV-IMA  \n",
       "3198  1213  AD  AD-IAP  "
      ]
     },
     "execution_count": 20,
     "metadata": {},
     "output_type": "execute_result"
    }
   ],
   "source": [
    "df.sample(10)"
   ]
  },
  {
   "cell_type": "code",
   "execution_count": 21,
   "metadata": {},
   "outputs": [],
   "source": [
    "df = df.dropna()"
   ]
  },
  {
   "cell_type": "code",
   "execution_count": 22,
   "metadata": {},
   "outputs": [
    {
     "data": {
      "text/plain": [
       "array([['The main focus of the course is to build intelligent systems based on two key natural concepts: evolution by natural selection and swarm intelligence.  Such intelligent systems have thousands of useful applications in fields as diverse as control theory, telecommunications, music and art.  This course discusses both methods in great detail along with providing a bit of the biological basis for each.Lecture slides, a textbook (possibly 2).  Textbooks are chosen  at the beginning of the semester.Students will get both theoretical and practical programming experience with two of the best known sub-symbolic AI methods: evolutionary algorithms and swarm intelligence algorithms. ',\n",
       "        682, 'IT3708', 827, 'IE', 'IE-IDI']], dtype=object)"
      ]
     },
     "execution_count": 22,
     "metadata": {},
     "output_type": "execute_result"
    }
   ],
   "source": [
    "df.loc[df.course==\"IT3708\"].values"
   ]
  },
  {
   "cell_type": "code",
   "execution_count": 23,
   "metadata": {},
   "outputs": [
    {
     "data": {
      "text/plain": [
       "IV    913\n",
       "HF    634\n",
       "IE    616\n",
       "SU    504\n",
       "NV    423\n",
       "OK    384\n",
       "MH    296\n",
       "AD    213\n",
       "Name: fac, dtype: int64"
      ]
     },
     "execution_count": 23,
     "metadata": {},
     "output_type": "execute_result"
    }
   ],
   "source": [
    "df.fac.value_counts()"
   ]
  },
  {
   "cell_type": "code",
   "execution_count": 24,
   "metadata": {},
   "outputs": [],
   "source": [
    "def remove_punctuation(document):\n",
    "    return \"\".join([ (c if c not in string.punctuation+\"\\n\\r\\t\" else \" \") for c in document])\n",
    "\n",
    "def tokenize(document):\n",
    "    return [w.lower() for w in remove_punctuation(document).split(\" \") if len(w)>0]"
   ]
  },
  {
   "cell_type": "code",
   "execution_count": 25,
   "metadata": {},
   "outputs": [],
   "source": [
    "stoplist = [l.strip() for l in open(\"stopwords.txt\", \"r\").readlines()]"
   ]
  },
  {
   "cell_type": "code",
   "execution_count": 26,
   "metadata": {},
   "outputs": [
    {
     "data": {
      "text/plain": [
       "['a',\n",
       " 'able',\n",
       " 'about',\n",
       " 'across',\n",
       " 'after',\n",
       " 'all',\n",
       " 'almost',\n",
       " 'also',\n",
       " 'am',\n",
       " 'among',\n",
       " 'an',\n",
       " 'and',\n",
       " 'any',\n",
       " 'are',\n",
       " 'as',\n",
       " 'at',\n",
       " 'be',\n",
       " 'because',\n",
       " 'been',\n",
       " 'but',\n",
       " 'by',\n",
       " 'can',\n",
       " 'cannot',\n",
       " 'could',\n",
       " 'dear',\n",
       " 'did',\n",
       " 'do',\n",
       " 'does',\n",
       " 'either',\n",
       " 'else',\n",
       " 'ever',\n",
       " 'every',\n",
       " 'for',\n",
       " 'from',\n",
       " 'get',\n",
       " 'got',\n",
       " 'had',\n",
       " 'has',\n",
       " 'have',\n",
       " 'he',\n",
       " 'her',\n",
       " 'hers',\n",
       " 'him',\n",
       " 'his',\n",
       " 'how',\n",
       " 'however',\n",
       " 'i',\n",
       " 'if',\n",
       " 'in',\n",
       " 'into',\n",
       " 'is',\n",
       " 'it',\n",
       " 'its',\n",
       " 'just',\n",
       " 'least',\n",
       " 'let',\n",
       " 'like',\n",
       " 'likely',\n",
       " 'may',\n",
       " 'me',\n",
       " 'might',\n",
       " 'most',\n",
       " 'must',\n",
       " 'my',\n",
       " 'neither',\n",
       " 'no',\n",
       " 'nor',\n",
       " 'not',\n",
       " 'of',\n",
       " 'off',\n",
       " 'often',\n",
       " 'on',\n",
       " 'only',\n",
       " 'or',\n",
       " 'other',\n",
       " 'our',\n",
       " 'own',\n",
       " 'rather',\n",
       " 'said',\n",
       " 'say',\n",
       " 'says',\n",
       " 'she',\n",
       " 'should',\n",
       " 'since',\n",
       " 'so',\n",
       " 'some',\n",
       " 'than',\n",
       " 'that',\n",
       " 'the',\n",
       " 'their',\n",
       " 'them',\n",
       " 'then',\n",
       " 'there',\n",
       " 'these',\n",
       " 'they',\n",
       " 'this',\n",
       " 'tis',\n",
       " 'to',\n",
       " 'too',\n",
       " 'twas',\n",
       " 'us',\n",
       " 'wants',\n",
       " 'was',\n",
       " 'we',\n",
       " 'were',\n",
       " 'what',\n",
       " 'when',\n",
       " 'where',\n",
       " 'which',\n",
       " 'while',\n",
       " 'who',\n",
       " 'whom',\n",
       " 'why',\n",
       " 'will',\n",
       " 'with',\n",
       " 'would',\n",
       " 'yet',\n",
       " 'you',\n",
       " 'your']"
      ]
     },
     "execution_count": 26,
     "metadata": {},
     "output_type": "execute_result"
    }
   ],
   "source": [
    "stoplist"
   ]
  },
  {
   "cell_type": "code",
   "execution_count": 27,
   "metadata": {
    "scrolled": true
   },
   "outputs": [
    {
     "data": {
      "text/plain": [
       "((2987,), (2987,), (996,), (996,))"
      ]
     },
     "execution_count": 27,
     "metadata": {},
     "output_type": "execute_result"
    }
   ],
   "source": [
    "y = df[\"fac\"].astype(str)\n",
    "X_train, X_test, y_train, y_test = train_test_split(df[\"description\"], y, stratify=y, random_state=seed)\n",
    "X_train.shape, y_train.shape, X_test.shape, y_test.shape"
   ]
  },
  {
   "cell_type": "code",
   "execution_count": 28,
   "metadata": {},
   "outputs": [
    {
     "data": {
      "text/plain": [
       "IV    228\n",
       "HF    159\n",
       "IE    154\n",
       "SU    126\n",
       "NV    106\n",
       "OK     96\n",
       "MH     74\n",
       "AD     53\n",
       "Name: fac, dtype: int64"
      ]
     },
     "execution_count": 28,
     "metadata": {},
     "output_type": "execute_result"
    }
   ],
   "source": [
    "y_test.value_counts()"
   ]
  },
  {
   "cell_type": "code",
   "execution_count": 29,
   "metadata": {},
   "outputs": [
    {
     "data": {
      "text/plain": [
       "IV    685\n",
       "HF    475\n",
       "IE    462\n",
       "SU    378\n",
       "NV    317\n",
       "OK    288\n",
       "MH    222\n",
       "AD    160\n",
       "Name: fac, dtype: int64"
      ]
     },
     "execution_count": 29,
     "metadata": {},
     "output_type": "execute_result"
    }
   ],
   "source": [
    "y_train.value_counts()"
   ]
  },
  {
   "cell_type": "code",
   "execution_count": 30,
   "metadata": {},
   "outputs": [],
   "source": [
    "vec = TfidfVectorizer(tokenizer=tokenize, stop_words=stoplist, use_idf=USE_IDF, ngram_range=NGRAM_RANGE)\n",
    "trn_vec= vec.fit_transform(X_train.values)\n",
    "test_vec = vec.transform(X_test.values)"
   ]
  },
  {
   "cell_type": "code",
   "execution_count": 31,
   "metadata": {},
   "outputs": [
    {
     "data": {
      "text/plain": [
       "((2987, 9), (996, 9))"
      ]
     },
     "execution_count": 31,
     "metadata": {},
     "output_type": "execute_result"
    }
   ],
   "source": [
    "X_train = pd.concat([X_train, pd.get_dummies(y_train)], axis=1)\n",
    "X_test = pd.concat([X_test, pd.get_dummies(y_test)], axis=1)\n",
    "X_train.shape, X_test.shape"
   ]
  },
  {
   "cell_type": "code",
   "execution_count": 32,
   "metadata": {},
   "outputs": [
    {
     "data": {
      "text/html": [
       "<div>\n",
       "<style scoped>\n",
       "    .dataframe tbody tr th:only-of-type {\n",
       "        vertical-align: middle;\n",
       "    }\n",
       "\n",
       "    .dataframe tbody tr th {\n",
       "        vertical-align: top;\n",
       "    }\n",
       "\n",
       "    .dataframe thead th {\n",
       "        text-align: right;\n",
       "    }\n",
       "</style>\n",
       "<table border=\"1\" class=\"dataframe\">\n",
       "  <thead>\n",
       "    <tr style=\"text-align: right;\">\n",
       "      <th></th>\n",
       "      <th>description</th>\n",
       "      <th>AD</th>\n",
       "      <th>HF</th>\n",
       "      <th>IE</th>\n",
       "      <th>IV</th>\n",
       "      <th>MH</th>\n",
       "      <th>NV</th>\n",
       "      <th>OK</th>\n",
       "      <th>SU</th>\n",
       "    </tr>\n",
       "  </thead>\n",
       "  <tbody>\n",
       "    <tr>\n",
       "      <td>1228</td>\n",
       "      <td>The course gives an introduction to the field ...</td>\n",
       "      <td>0</td>\n",
       "      <td>0</td>\n",
       "      <td>0</td>\n",
       "      <td>1</td>\n",
       "      <td>0</td>\n",
       "      <td>0</td>\n",
       "      <td>0</td>\n",
       "      <td>0</td>\n",
       "    </tr>\n",
       "    <tr>\n",
       "      <td>972</td>\n",
       "      <td>The students choose a preapproved problem with...</td>\n",
       "      <td>0</td>\n",
       "      <td>0</td>\n",
       "      <td>1</td>\n",
       "      <td>0</td>\n",
       "      <td>0</td>\n",
       "      <td>0</td>\n",
       "      <td>0</td>\n",
       "      <td>0</td>\n",
       "    </tr>\n",
       "    <tr>\n",
       "      <td>2418</td>\n",
       "      <td>Fundamental theory, basic operation, and appli...</td>\n",
       "      <td>0</td>\n",
       "      <td>0</td>\n",
       "      <td>0</td>\n",
       "      <td>0</td>\n",
       "      <td>0</td>\n",
       "      <td>1</td>\n",
       "      <td>0</td>\n",
       "      <td>0</td>\n",
       "    </tr>\n",
       "    <tr>\n",
       "      <td>595</td>\n",
       "      <td>The course deals with deterministic descriptio...</td>\n",
       "      <td>0</td>\n",
       "      <td>0</td>\n",
       "      <td>0</td>\n",
       "      <td>1</td>\n",
       "      <td>0</td>\n",
       "      <td>0</td>\n",
       "      <td>0</td>\n",
       "      <td>0</td>\n",
       "    </tr>\n",
       "    <tr>\n",
       "      <td>417</td>\n",
       "      <td>Introduction to the concept of dynamical syste...</td>\n",
       "      <td>0</td>\n",
       "      <td>0</td>\n",
       "      <td>1</td>\n",
       "      <td>0</td>\n",
       "      <td>0</td>\n",
       "      <td>0</td>\n",
       "      <td>0</td>\n",
       "      <td>0</td>\n",
       "    </tr>\n",
       "  </tbody>\n",
       "</table>\n",
       "</div>"
      ],
      "text/plain": [
       "                                            description  AD  HF  IE  IV  MH  \\\n",
       "1228  The course gives an introduction to the field ...   0   0   0   1   0   \n",
       "972   The students choose a preapproved problem with...   0   0   1   0   0   \n",
       "2418  Fundamental theory, basic operation, and appli...   0   0   0   0   0   \n",
       "595   The course deals with deterministic descriptio...   0   0   0   1   0   \n",
       "417   Introduction to the concept of dynamical syste...   0   0   1   0   0   \n",
       "\n",
       "      NV  OK  SU  \n",
       "1228   0   0   0  \n",
       "972    0   0   0  \n",
       "2418   1   0   0  \n",
       "595    0   0   0  \n",
       "417    0   0   0  "
      ]
     },
     "execution_count": 32,
     "metadata": {},
     "output_type": "execute_result"
    }
   ],
   "source": [
    "X_train.sample(5)"
   ]
  },
  {
   "cell_type": "code",
   "execution_count": 33,
   "metadata": {
    "scrolled": true
   },
   "outputs": [
    {
     "name": "stdout",
     "output_type": "stream",
     "text": [
      "['IE', 'HF', 'IV', 'AD', 'SU', 'MH', 'NV', 'OK']\n"
     ]
    },
    {
     "data": {
      "text/plain": [
       "(996, 8)"
      ]
     },
     "execution_count": 33,
     "metadata": {},
     "output_type": "execute_result"
    }
   ],
   "source": [
    "label_cols = df[\"fac\"].astype(str).unique().tolist()\n",
    "print(label_cols)\n",
    "preds = np.zeros((len(X_test), len(label_cols)))\n",
    "preds.shape"
   ]
  },
  {
   "cell_type": "code",
   "execution_count": 34,
   "metadata": {},
   "outputs": [
    {
     "data": {
      "text/plain": [
       "((2987, 21404), (996, 21404), (996, 9))"
      ]
     },
     "execution_count": 34,
     "metadata": {},
     "output_type": "execute_result"
    }
   ],
   "source": [
    "trn_vec.shape,test_vec.shape,  X_test.shape"
   ]
  },
  {
   "cell_type": "code",
   "execution_count": 35,
   "metadata": {},
   "outputs": [],
   "source": [
    "def prior(y_i, y):\n",
    "    '''\n",
    "    y_i is either 1 or 0.\n",
    "    y is numpy array of labels\n",
    "    '''\n",
    "    p = trn_vec[y==y_i].sum(0) # Number of documents in trn_doc with given label\n",
    "    return (p+1) / ((y==y_i).sum()+1) # Fraction of all documents with given label"
   ]
  },
  {
   "cell_type": "code",
   "execution_count": 36,
   "metadata": {},
   "outputs": [],
   "source": [
    "def get_mdl(y):\n",
    "    y = y.values #pandas Series to numpy array\n",
    "    r = np.log(prior(1,y) / prior(0,y)) #Log likelihood ratio for both possibilities\n",
    "    m = LogisticRegression(C=C, solver=\"liblinear\") # Logistic regression model\n",
    "    x_nb = trn_vec.multiply(r) # Multiply the Tf-idf features with this ratio\n",
    "    return m.fit(x_nb, y), r"
   ]
  },
  {
   "cell_type": "markdown",
   "metadata": {},
   "source": [
    "## Naive Bayes"
   ]
  },
  {
   "cell_type": "code",
   "execution_count": 37,
   "metadata": {},
   "outputs": [],
   "source": [
    "from sklearn.naive_bayes import MultinomialNB"
   ]
  },
  {
   "cell_type": "code",
   "execution_count": 38,
   "metadata": {},
   "outputs": [],
   "source": [
    "clf = MultinomialNB()"
   ]
  },
  {
   "cell_type": "code",
   "execution_count": 39,
   "metadata": {},
   "outputs": [
    {
     "data": {
      "text/plain": [
       "MultinomialNB(alpha=1.0, class_prior=None, fit_prior=True)"
      ]
     },
     "execution_count": 39,
     "metadata": {},
     "output_type": "execute_result"
    }
   ],
   "source": [
    "clf.fit(trn_vec, y_train)"
   ]
  },
  {
   "cell_type": "code",
   "execution_count": 40,
   "metadata": {},
   "outputs": [],
   "source": [
    "p = clf.predict(test_vec)"
   ]
  },
  {
   "cell_type": "code",
   "execution_count": 41,
   "metadata": {},
   "outputs": [
    {
     "data": {
      "text/plain": [
       "0.6295180722891566"
      ]
     },
     "execution_count": 41,
     "metadata": {},
     "output_type": "execute_result"
    }
   ],
   "source": [
    "(p == y_test).sum()/y_test.shape[0]"
   ]
  },
  {
   "cell_type": "code",
   "execution_count": 42,
   "metadata": {},
   "outputs": [
    {
     "data": {
      "text/plain": [
       "array([[ 83,   1,  70,   0,   0,   0,   0,   0],\n",
       "       [  2, 144,  10,   0,   3,   0,   0,   0],\n",
       "       [  2,   0, 225,   0,   0,   0,   1,   0],\n",
       "       [  2,   7,  42,   1,   1,   0,   0,   0],\n",
       "       [  0,  11,  21,   0,  94,   0,   0,   0],\n",
       "       [  1,   1,  34,   0,  10,  27,   1,   0],\n",
       "       [  1,   1,  76,   0,   0,   0,  28,   0],\n",
       "       [  1,   4,  64,   0,   2,   0,   0,  25]], dtype=int64)"
      ]
     },
     "execution_count": 42,
     "metadata": {},
     "output_type": "execute_result"
    }
   ],
   "source": [
    "confusion_matrix(y_test, p, labels=label_cols)"
   ]
  },
  {
   "cell_type": "code",
   "execution_count": 43,
   "metadata": {},
   "outputs": [
    {
     "data": {
      "text/plain": [
       "['IE', 'HF', 'IV', 'AD', 'SU', 'MH', 'NV', 'OK']"
      ]
     },
     "execution_count": 43,
     "metadata": {},
     "output_type": "execute_result"
    }
   ],
   "source": [
    "label_cols"
   ]
  },
  {
   "cell_type": "code",
   "execution_count": 44,
   "metadata": {},
   "outputs": [
    {
     "data": {
      "text/plain": [
       "IV    228\n",
       "HF    159\n",
       "IE    154\n",
       "SU    126\n",
       "NV    106\n",
       "OK     96\n",
       "MH     74\n",
       "AD     53\n",
       "Name: fac, dtype: int64"
      ]
     },
     "execution_count": 44,
     "metadata": {},
     "output_type": "execute_result"
    }
   ],
   "source": [
    "y_test.value_counts()"
   ]
  },
  {
   "cell_type": "markdown",
   "metadata": {},
   "source": [
    "## Logistic regression multiclass"
   ]
  },
  {
   "cell_type": "code",
   "execution_count": 45,
   "metadata": {},
   "outputs": [],
   "source": [
    "logreg_multi = LogisticRegression(solver=\"saga\", multi_class=\"ovr\", max_iter=1000)"
   ]
  },
  {
   "cell_type": "code",
   "execution_count": 46,
   "metadata": {},
   "outputs": [
    {
     "data": {
      "text/plain": [
       "LogisticRegression(C=1.0, class_weight=None, dual=False, fit_intercept=True,\n",
       "                   intercept_scaling=1, l1_ratio=None, max_iter=1000,\n",
       "                   multi_class='ovr', n_jobs=None, penalty='l2',\n",
       "                   random_state=None, solver='saga', tol=0.0001, verbose=0,\n",
       "                   warm_start=False)"
      ]
     },
     "execution_count": 46,
     "metadata": {},
     "output_type": "execute_result"
    }
   ],
   "source": [
    "logreg_multi.fit(trn_vec, y_train)"
   ]
  },
  {
   "cell_type": "code",
   "execution_count": 47,
   "metadata": {},
   "outputs": [],
   "source": [
    "lm_preds = logreg_multi.predict(test_vec)"
   ]
  },
  {
   "cell_type": "code",
   "execution_count": 48,
   "metadata": {},
   "outputs": [
    {
     "data": {
      "text/plain": [
       "0.8323293172690763"
      ]
     },
     "execution_count": 48,
     "metadata": {},
     "output_type": "execute_result"
    }
   ],
   "source": [
    "(lm_preds == y_test).sum()/y_test.shape[0]"
   ]
  },
  {
   "cell_type": "code",
   "execution_count": null,
   "metadata": {},
   "outputs": [],
   "source": []
  },
  {
   "cell_type": "markdown",
   "metadata": {},
   "source": [
    "## Logistic regression per class"
   ]
  },
  {
   "cell_type": "code",
   "execution_count": 49,
   "metadata": {},
   "outputs": [],
   "source": [
    "TRAIN = True\n",
    "SAVE = False"
   ]
  },
  {
   "cell_type": "code",
   "execution_count": 50,
   "metadata": {},
   "outputs": [
    {
     "name": "stdout",
     "output_type": "stream",
     "text": [
      "fit IE\n",
      "fit HF\n",
      "fit IV\n",
      "fit AD\n",
      "fit SU\n",
      "fit MH\n",
      "fit NV\n",
      "fit OK\n"
     ]
    }
   ],
   "source": [
    "models = {}\n",
    "rs = {}\n",
    "for i, j in enumerate(label_cols):\n",
    "    print('fit', j)\n",
    "    m,r = get_mdl(X_train[j])\n",
    "    if TRAIN:\n",
    "        preds[:,i] = m.predict_proba(test_vec.multiply(r))[:,1]\n",
    "    else:\n",
    "        if SAVE:\n",
    "            np.save(open(\"webapp/r_\"+j+\".npy\", \"wb\"), r)\n",
    "            pickle.dump(m, open(\"webapp/\"+j+\"_model.pkl\", \"wb\"))\n",
    "    models[j] = m\n",
    "    rs[j] = r"
   ]
  },
  {
   "cell_type": "code",
   "execution_count": 51,
   "metadata": {},
   "outputs": [],
   "source": [
    "df_preds = pd.DataFrame(preds, columns=label_cols)\n",
    "\n",
    "for c in df_preds.columns:\n",
    "    df_preds[c+\"_predicted\"] = (df_preds.max(axis=1)==df_preds[c]).astype(int)\n",
    "\n",
    "oh_y_test = pd.get_dummies(y_test)\n",
    "oh_y_test = oh_y_test.rename({c:c+\"_actual\" for c in oh_y_test.columns},axis=1)\n",
    "\n",
    "df_preds = pd.concat([df_preds, oh_y_test.reset_index()], axis=1)\n",
    "\n",
    "res_df = pd.DataFrame(confusion_matrix(df_preds.loc[:,[c+\"_actual\" for c in label_cols]].values.argmax(1), df_preds.loc[:,[c+\"_predicted\" for c in label_cols]].values.argmax(1)), index=label_cols, columns=label_cols)"
   ]
  },
  {
   "cell_type": "code",
   "execution_count": 52,
   "metadata": {},
   "outputs": [
    {
     "data": {
      "text/html": [
       "<div>\n",
       "<style scoped>\n",
       "    .dataframe tbody tr th:only-of-type {\n",
       "        vertical-align: middle;\n",
       "    }\n",
       "\n",
       "    .dataframe tbody tr th {\n",
       "        vertical-align: top;\n",
       "    }\n",
       "\n",
       "    .dataframe thead th {\n",
       "        text-align: right;\n",
       "    }\n",
       "</style>\n",
       "<table border=\"1\" class=\"dataframe\">\n",
       "  <thead>\n",
       "    <tr style=\"text-align: right;\">\n",
       "      <th></th>\n",
       "      <th>IE</th>\n",
       "      <th>HF</th>\n",
       "      <th>IV</th>\n",
       "      <th>AD</th>\n",
       "      <th>SU</th>\n",
       "      <th>MH</th>\n",
       "      <th>NV</th>\n",
       "      <th>OK</th>\n",
       "    </tr>\n",
       "  </thead>\n",
       "  <tbody>\n",
       "    <tr>\n",
       "      <td>IE</td>\n",
       "      <td>134</td>\n",
       "      <td>2</td>\n",
       "      <td>12</td>\n",
       "      <td>1</td>\n",
       "      <td>0</td>\n",
       "      <td>0</td>\n",
       "      <td>3</td>\n",
       "      <td>2</td>\n",
       "    </tr>\n",
       "    <tr>\n",
       "      <td>HF</td>\n",
       "      <td>1</td>\n",
       "      <td>151</td>\n",
       "      <td>1</td>\n",
       "      <td>0</td>\n",
       "      <td>4</td>\n",
       "      <td>0</td>\n",
       "      <td>0</td>\n",
       "      <td>2</td>\n",
       "    </tr>\n",
       "    <tr>\n",
       "      <td>IV</td>\n",
       "      <td>12</td>\n",
       "      <td>0</td>\n",
       "      <td>203</td>\n",
       "      <td>3</td>\n",
       "      <td>0</td>\n",
       "      <td>0</td>\n",
       "      <td>5</td>\n",
       "      <td>5</td>\n",
       "    </tr>\n",
       "    <tr>\n",
       "      <td>AD</td>\n",
       "      <td>8</td>\n",
       "      <td>1</td>\n",
       "      <td>5</td>\n",
       "      <td>35</td>\n",
       "      <td>3</td>\n",
       "      <td>0</td>\n",
       "      <td>0</td>\n",
       "      <td>1</td>\n",
       "    </tr>\n",
       "    <tr>\n",
       "      <td>SU</td>\n",
       "      <td>4</td>\n",
       "      <td>2</td>\n",
       "      <td>4</td>\n",
       "      <td>0</td>\n",
       "      <td>113</td>\n",
       "      <td>0</td>\n",
       "      <td>1</td>\n",
       "      <td>2</td>\n",
       "    </tr>\n",
       "    <tr>\n",
       "      <td>MH</td>\n",
       "      <td>2</td>\n",
       "      <td>0</td>\n",
       "      <td>4</td>\n",
       "      <td>0</td>\n",
       "      <td>5</td>\n",
       "      <td>60</td>\n",
       "      <td>3</td>\n",
       "      <td>0</td>\n",
       "    </tr>\n",
       "    <tr>\n",
       "      <td>NV</td>\n",
       "      <td>7</td>\n",
       "      <td>0</td>\n",
       "      <td>6</td>\n",
       "      <td>0</td>\n",
       "      <td>0</td>\n",
       "      <td>5</td>\n",
       "      <td>88</td>\n",
       "      <td>0</td>\n",
       "    </tr>\n",
       "    <tr>\n",
       "      <td>OK</td>\n",
       "      <td>4</td>\n",
       "      <td>4</td>\n",
       "      <td>5</td>\n",
       "      <td>0</td>\n",
       "      <td>7</td>\n",
       "      <td>0</td>\n",
       "      <td>0</td>\n",
       "      <td>76</td>\n",
       "    </tr>\n",
       "  </tbody>\n",
       "</table>\n",
       "</div>"
      ],
      "text/plain": [
       "     IE   HF   IV  AD   SU  MH  NV  OK\n",
       "IE  134    2   12   1    0   0   3   2\n",
       "HF    1  151    1   0    4   0   0   2\n",
       "IV   12    0  203   3    0   0   5   5\n",
       "AD    8    1    5  35    3   0   0   1\n",
       "SU    4    2    4   0  113   0   1   2\n",
       "MH    2    0    4   0    5  60   3   0\n",
       "NV    7    0    6   0    0   5  88   0\n",
       "OK    4    4    5   0    7   0   0  76"
      ]
     },
     "execution_count": 52,
     "metadata": {},
     "output_type": "execute_result"
    }
   ],
   "source": [
    "res_df"
   ]
  },
  {
   "cell_type": "code",
   "execution_count": 53,
   "metadata": {},
   "outputs": [
    {
     "data": {
      "text/plain": [
       "0.8634538152610441"
      ]
     },
     "execution_count": 53,
     "metadata": {},
     "output_type": "execute_result"
    }
   ],
   "source": [
    "precision_score(df_preds.loc[:,[c+\"_actual\" for c in label_cols]].values.argmax(1), df_preds.loc[:,[c+\"_predicted\" for c in label_cols]].values.argmax(1), average=\"micro\")"
   ]
  },
  {
   "cell_type": "code",
   "execution_count": 54,
   "metadata": {},
   "outputs": [
    {
     "data": {
      "text/plain": [
       "0.8736078613731231"
      ]
     },
     "execution_count": 54,
     "metadata": {},
     "output_type": "execute_result"
    }
   ],
   "source": [
    "precision_score(df_preds.loc[:,[c+\"_actual\" for c in label_cols]].values.argmax(1), df_preds.loc[:,[c+\"_predicted\" for c in label_cols]].values.argmax(1), average=\"macro\")"
   ]
  },
  {
   "cell_type": "code",
   "execution_count": 55,
   "metadata": {},
   "outputs": [
    {
     "data": {
      "text/plain": [
       "array([0.77906977, 0.94375   , 0.84583333, 0.8974359 , 0.85606061,\n",
       "       0.92307692, 0.88      , 0.86363636])"
      ]
     },
     "execution_count": 55,
     "metadata": {},
     "output_type": "execute_result"
    }
   ],
   "source": [
    "precision_score(df_preds.loc[:,[c+\"_actual\" for c in label_cols]].values.argmax(1), df_preds.loc[:,[c+\"_predicted\" for c in label_cols]].values.argmax(1), average=None)"
   ]
  },
  {
   "cell_type": "code",
   "execution_count": null,
   "metadata": {},
   "outputs": [],
   "source": []
  }
 ],
 "metadata": {
  "kernelspec": {
   "display_name": "Python 3",
   "language": "python",
   "name": "python3"
  },
  "language_info": {
   "codemirror_mode": {
    "name": "ipython",
    "version": 3
   },
   "file_extension": ".py",
   "mimetype": "text/x-python",
   "name": "python",
   "nbconvert_exporter": "python",
   "pygments_lexer": "ipython3",
   "version": "3.6.8"
  },
  "toc": {
   "base_numbering": 1,
   "nav_menu": {},
   "number_sections": true,
   "sideBar": true,
   "skip_h1_title": false,
   "title_cell": "Table of Contents",
   "title_sidebar": "Contents",
   "toc_cell": false,
   "toc_position": {},
   "toc_section_display": true,
   "toc_window_display": false
  },
  "varInspector": {
   "cols": {
    "lenName": 16,
    "lenType": 16,
    "lenVar": 40
   },
   "kernels_config": {
    "python": {
     "delete_cmd_postfix": "",
     "delete_cmd_prefix": "del ",
     "library": "var_list.py",
     "varRefreshCmd": "print(var_dic_list())"
    },
    "r": {
     "delete_cmd_postfix": ") ",
     "delete_cmd_prefix": "rm(",
     "library": "var_list.r",
     "varRefreshCmd": "cat(var_dic_list()) "
    }
   },
   "types_to_exclude": [
    "module",
    "function",
    "builtin_function_or_method",
    "instance",
    "_Feature"
   ],
   "window_display": false
  }
 },
 "nbformat": 4,
 "nbformat_minor": 2
}
